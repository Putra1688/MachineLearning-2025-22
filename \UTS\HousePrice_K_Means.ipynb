{
  "nbformat": 4,
  "nbformat_minor": 0,
  "metadata": {
    "colab": {
      "provenance": [],
      "include_colab_link": true
    },
    "kernelspec": {
      "name": "python3",
      "display_name": "Python 3"
    },
    "language_info": {
      "name": "python"
    }
  },
  "cells": [
    {
      "cell_type": "markdown",
      "metadata": {
        "id": "view-in-github",
        "colab_type": "text"
      },
      "source": [
        "<a href=\"https://colab.research.google.com/github/Putra1688/MachineLearning-2025-22/blob/main/%5CUTS%5CHousePrice_K_Means.ipynb\" target=\"_parent\"><img src=\"https://colab.research.google.com/assets/colab-badge.svg\" alt=\"Open In Colab\"/></a>"
      ]
    },
    {
      "cell_type": "markdown",
      "source": [
        "# **0) Persiapan Awal**"
      ],
      "metadata": {
        "id": "dR5TYSL3OtQk"
      }
    },
    {
      "cell_type": "code",
      "source": [
        "from google.colab import drive\n",
        "drive.mount('/content/drive')"
      ],
      "metadata": {
        "colab": {
          "base_uri": "https://localhost:8080/"
        },
        "id": "K6xmhav-dkhb",
        "outputId": "718ecd3b-b21d-4555-feab-c7fc4ccffe3c"
      },
      "execution_count": 22,
      "outputs": [
        {
          "output_type": "stream",
          "name": "stdout",
          "text": [
            "Drive already mounted at /content/drive; to attempt to forcibly remount, call drive.mount(\"/content/drive\", force_remount=True).\n"
          ]
        }
      ]
    },
    {
      "cell_type": "code",
      "execution_count": 23,
      "metadata": {
        "id": "R6CeHfbJOdVx"
      },
      "outputs": [],
      "source": [
        "import pandas as pd\n",
        "import numpy as np\n",
        "from sklearn.preprocessing import StandardScaler, OneHotEncoder\n",
        "from sklearn.impute import SimpleImputer\n",
        "from sklearn.compose import ColumnTransformer\n",
        "from sklearn.pipeline import Pipeline\n",
        "from sklearn.cluster import KMeans\n",
        "from sklearn.metrics import silhouette_score, davies_bouldin_score\n",
        "import matplotlib.pyplot as plt\n",
        "\n"
      ]
    },
    {
      "cell_type": "markdown",
      "source": [
        "# **1) Load Data**"
      ],
      "metadata": {
        "id": "7d0_ZGfHO9F0"
      }
    },
    {
      "cell_type": "code",
      "source": [
        "df_train = pd.read_csv('/content/drive/MyDrive/Colab Notebooks/Machine Learning/UTS/train.csv')\n",
        "\n",
        "# Tampilkan informasi dasar untuk orientasi\n",
        "print(df_train.info())\n",
        "\n",
        "# Drop kolom 'Id' dan 'SalePrice' karena tidak relevan untuk clustering\n",
        "df_data = df_train.drop(['Id', 'SalePrice'], axis=1, errors='ignore')\n",
        "\n",
        "print(\"\\nDataFrame yang siap untuk preprocessing (df_data.head()):\")\n",
        "print(df_data.head())"
      ],
      "metadata": {
        "colab": {
          "base_uri": "https://localhost:8080/"
        },
        "id": "kNQtNTKkOy9e",
        "outputId": "2c8ae63f-7b28-4b74-9ad1-eb033e357620"
      },
      "execution_count": 24,
      "outputs": [
        {
          "output_type": "stream",
          "name": "stdout",
          "text": [
            "<class 'pandas.core.frame.DataFrame'>\n",
            "RangeIndex: 1460 entries, 0 to 1459\n",
            "Data columns (total 81 columns):\n",
            " #   Column         Non-Null Count  Dtype  \n",
            "---  ------         --------------  -----  \n",
            " 0   Id             1460 non-null   int64  \n",
            " 1   MSSubClass     1460 non-null   int64  \n",
            " 2   MSZoning       1460 non-null   object \n",
            " 3   LotFrontage    1201 non-null   float64\n",
            " 4   LotArea        1460 non-null   int64  \n",
            " 5   Street         1460 non-null   object \n",
            " 6   Alley          91 non-null     object \n",
            " 7   LotShape       1460 non-null   object \n",
            " 8   LandContour    1460 non-null   object \n",
            " 9   Utilities      1460 non-null   object \n",
            " 10  LotConfig      1460 non-null   object \n",
            " 11  LandSlope      1460 non-null   object \n",
            " 12  Neighborhood   1460 non-null   object \n",
            " 13  Condition1     1460 non-null   object \n",
            " 14  Condition2     1460 non-null   object \n",
            " 15  BldgType       1460 non-null   object \n",
            " 16  HouseStyle     1460 non-null   object \n",
            " 17  OverallQual    1460 non-null   int64  \n",
            " 18  OverallCond    1460 non-null   int64  \n",
            " 19  YearBuilt      1460 non-null   int64  \n",
            " 20  YearRemodAdd   1460 non-null   int64  \n",
            " 21  RoofStyle      1460 non-null   object \n",
            " 22  RoofMatl       1460 non-null   object \n",
            " 23  Exterior1st    1460 non-null   object \n",
            " 24  Exterior2nd    1460 non-null   object \n",
            " 25  MasVnrType     588 non-null    object \n",
            " 26  MasVnrArea     1452 non-null   float64\n",
            " 27  ExterQual      1460 non-null   object \n",
            " 28  ExterCond      1460 non-null   object \n",
            " 29  Foundation     1460 non-null   object \n",
            " 30  BsmtQual       1423 non-null   object \n",
            " 31  BsmtCond       1423 non-null   object \n",
            " 32  BsmtExposure   1422 non-null   object \n",
            " 33  BsmtFinType1   1423 non-null   object \n",
            " 34  BsmtFinSF1     1460 non-null   int64  \n",
            " 35  BsmtFinType2   1422 non-null   object \n",
            " 36  BsmtFinSF2     1460 non-null   int64  \n",
            " 37  BsmtUnfSF      1460 non-null   int64  \n",
            " 38  TotalBsmtSF    1460 non-null   int64  \n",
            " 39  Heating        1460 non-null   object \n",
            " 40  HeatingQC      1460 non-null   object \n",
            " 41  CentralAir     1460 non-null   object \n",
            " 42  Electrical     1459 non-null   object \n",
            " 43  1stFlrSF       1460 non-null   int64  \n",
            " 44  2ndFlrSF       1460 non-null   int64  \n",
            " 45  LowQualFinSF   1460 non-null   int64  \n",
            " 46  GrLivArea      1460 non-null   int64  \n",
            " 47  BsmtFullBath   1460 non-null   int64  \n",
            " 48  BsmtHalfBath   1460 non-null   int64  \n",
            " 49  FullBath       1460 non-null   int64  \n",
            " 50  HalfBath       1460 non-null   int64  \n",
            " 51  BedroomAbvGr   1460 non-null   int64  \n",
            " 52  KitchenAbvGr   1460 non-null   int64  \n",
            " 53  KitchenQual    1460 non-null   object \n",
            " 54  TotRmsAbvGrd   1460 non-null   int64  \n",
            " 55  Functional     1460 non-null   object \n",
            " 56  Fireplaces     1460 non-null   int64  \n",
            " 57  FireplaceQu    770 non-null    object \n",
            " 58  GarageType     1379 non-null   object \n",
            " 59  GarageYrBlt    1379 non-null   float64\n",
            " 60  GarageFinish   1379 non-null   object \n",
            " 61  GarageCars     1460 non-null   int64  \n",
            " 62  GarageArea     1460 non-null   int64  \n",
            " 63  GarageQual     1379 non-null   object \n",
            " 64  GarageCond     1379 non-null   object \n",
            " 65  PavedDrive     1460 non-null   object \n",
            " 66  WoodDeckSF     1460 non-null   int64  \n",
            " 67  OpenPorchSF    1460 non-null   int64  \n",
            " 68  EnclosedPorch  1460 non-null   int64  \n",
            " 69  3SsnPorch      1460 non-null   int64  \n",
            " 70  ScreenPorch    1460 non-null   int64  \n",
            " 71  PoolArea       1460 non-null   int64  \n",
            " 72  PoolQC         7 non-null      object \n",
            " 73  Fence          281 non-null    object \n",
            " 74  MiscFeature    54 non-null     object \n",
            " 75  MiscVal        1460 non-null   int64  \n",
            " 76  MoSold         1460 non-null   int64  \n",
            " 77  YrSold         1460 non-null   int64  \n",
            " 78  SaleType       1460 non-null   object \n",
            " 79  SaleCondition  1460 non-null   object \n",
            " 80  SalePrice      1460 non-null   int64  \n",
            "dtypes: float64(3), int64(35), object(43)\n",
            "memory usage: 924.0+ KB\n",
            "None\n",
            "\n",
            "DataFrame yang siap untuk preprocessing (df_data.head()):\n",
            "   MSSubClass MSZoning  LotFrontage  LotArea Street Alley LotShape  \\\n",
            "0          60       RL         65.0     8450   Pave   NaN      Reg   \n",
            "1          20       RL         80.0     9600   Pave   NaN      Reg   \n",
            "2          60       RL         68.0    11250   Pave   NaN      IR1   \n",
            "3          70       RL         60.0     9550   Pave   NaN      IR1   \n",
            "4          60       RL         84.0    14260   Pave   NaN      IR1   \n",
            "\n",
            "  LandContour Utilities LotConfig  ... ScreenPorch PoolArea PoolQC Fence  \\\n",
            "0         Lvl    AllPub    Inside  ...           0        0    NaN   NaN   \n",
            "1         Lvl    AllPub       FR2  ...           0        0    NaN   NaN   \n",
            "2         Lvl    AllPub    Inside  ...           0        0    NaN   NaN   \n",
            "3         Lvl    AllPub    Corner  ...           0        0    NaN   NaN   \n",
            "4         Lvl    AllPub       FR2  ...           0        0    NaN   NaN   \n",
            "\n",
            "  MiscFeature MiscVal  MoSold  YrSold  SaleType  SaleCondition  \n",
            "0         NaN       0       2    2008        WD         Normal  \n",
            "1         NaN       0       5    2007        WD         Normal  \n",
            "2         NaN       0       9    2008        WD         Normal  \n",
            "3         NaN       0       2    2006        WD        Abnorml  \n",
            "4         NaN       0      12    2008        WD         Normal  \n",
            "\n",
            "[5 rows x 79 columns]\n"
          ]
        }
      ]
    },
    {
      "cell_type": "code",
      "source": [
        "df_test = pd.read_csv('/content/drive/MyDrive/Colab Notebooks/Machine Learning/UTS/test.csv')\n",
        "\n",
        "train_len = len(df_train)\n",
        "test_ids = df_test['Id']\n",
        "\n",
        "# Kita hanya menggunakan fitur untuk clustering, jadi SalePrice harus di-drop dulu dari train\n",
        "features = df_train.drop(['Id', 'SalePrice'], axis=1)\n",
        "df_test_features = df_test.drop('Id', axis=1) # test.csv memang tidak punya SalePrice\n",
        "\n",
        "df_data_combined = pd.concat([features, df_test_features], ignore_index=True)\n",
        "\n",
        "# Lanjutkan dengan df_data_combined sebagai input untuk Feature Engineering\n",
        "df_data = df_data_combined # Ganti nama variabel agar sesuai dengan kode berikutnya\n",
        "print(f\"Data Gabungan (Train + Test) Berhasil. Total Baris: {len(df_data)}\")"
      ],
      "metadata": {
        "colab": {
          "base_uri": "https://localhost:8080/"
        },
        "id": "ryGF3Rm-XALl",
        "outputId": "86570426-7380-4499-9ea0-e39f113e4dd8"
      },
      "execution_count": 25,
      "outputs": [
        {
          "output_type": "stream",
          "name": "stdout",
          "text": [
            "Data Gabungan (Train + Test) Berhasil. Total Baris: 2919\n"
          ]
        }
      ]
    },
    {
      "cell_type": "markdown",
      "source": [
        "# **2) Preprocessing Data**"
      ],
      "metadata": {
        "id": "UXuTEh2ZP-22"
      }
    },
    {
      "cell_type": "markdown",
      "source": [
        "## **2.1) Pemisahan Tipe Data**"
      ],
      "metadata": {
        "id": "hRg9znOWQUIY"
      }
    },
    {
      "cell_type": "code",
      "source": [
        "# 1. Kolom yang pasti numerik dan akan di-imputasi dengan mean/median\n",
        "numerical_cols = df_data.select_dtypes(include=np.number).columns.tolist()\n",
        "\n",
        "# 2. Kolom yang pasti kategorikal (nominal) dan akan di-One-Hot Encode\n",
        "# Asumsi: Kita ambil yang tipe 'object'\n",
        "categorical_cols = df_data.select_dtypes(include='object').columns.tolist()\n",
        "\n",
        "# Karena datanya sangat banyak, mari kita fokuskan pada subset fitur\n",
        "# yang paling penting untuk cluster (berdasarkan pengalaman EDA data ini):\n",
        "features_for_clustering = ['GrLivArea', 'TotalBsmtSF', 'OverallQual', 'YearBuilt',\n",
        "                           '1stFlrSF', '2ndFlrSF', 'GarageCars', 'GarageArea',\n",
        "                           'BsmtFullBath', 'FullBath', 'Fireplaces', 'Neighborhood',\n",
        "                           'MSZoning', 'LotArea', 'LotFrontage', 'MasVnrArea']\n",
        "\n",
        "# Filter kolom yang akan dipakai\n",
        "df_subset = df_data[features_for_clustering]\n",
        "\n",
        "# Tentukan ulang kolom berdasarkan subset:\n",
        "numerical_cols_subset = df_subset.select_dtypes(include=np.number).columns.tolist()\n",
        "categorical_cols_subset = df_subset.select_dtypes(include='object').columns.tolist()"
      ],
      "metadata": {
        "id": "2OPnJBHNQVQY"
      },
      "execution_count": 26,
      "outputs": []
    },
    {
      "cell_type": "markdown",
      "source": [
        "## **2.2) Membuat Fitur Baru (Feature Engineering)**"
      ],
      "metadata": {
        "id": "Q9HOM-RjQkbQ"
      }
    },
    {
      "cell_type": "code",
      "source": [
        "# Tambahkan fitur baru 'TotalSF'\n",
        "# Catatan: Kita harus bekerja pada df_data asli yang memiliki kolom 1stFlrSF dan 2ndFlrSF\n",
        "df_data['TotalSF'] = df_data['TotalBsmtSF'] + df_data['1stFlrSF'] + df_data['2ndFlrSF']\n",
        "\n",
        "# Perbarui daftar fitur clustering untuk memasukkan TotalSF\n",
        "features_for_clustering_final = features_for_clustering + ['TotalSF']\n",
        "\n",
        "df_data['TotalSF'] = df_data['TotalBsmtSF'] + df_data['1stFlrSF'] + df_data['2ndFlrSF']\n",
        "\n",
        "# Contoh Imputasi (PENTING: Harus dijalankan di df_data)\n",
        "cols_none_cat = ['Alley', 'BsmtQual', 'BsmtCond', 'BsmtExposure', 'BsmtFinType1',\n",
        "                 'BsmtFinType2', 'FireplaceQu', 'GarageType', 'GarageFinish',\n",
        "                 'GarageQual', 'GarageCond', 'PoolQC', 'Fence', 'MiscFeature', 'MasVnrType']\n",
        "for col in cols_none_cat:\n",
        "    df_data[col] = df_data[col].fillna('None')\n",
        "\n",
        "# Filter ulang subset data dan daftar kolom numerik/kategorikal\n",
        "df_subset_final = df_data[features_for_clustering_final]\n",
        "numerical_cols_final = df_subset_final.select_dtypes(include=np.number).columns.tolist()\n",
        "categorical_cols_final = df_subset_final.select_dtypes(include='object').columns.tolist()"
      ],
      "metadata": {
        "id": "5VJNvkcAQpAJ"
      },
      "execution_count": 27,
      "outputs": []
    },
    {
      "cell_type": "code",
      "source": [
        "df_data['TotalSF'] = df_data['TotalBsmtSF'] + df_data['1stFlrSF'] + df_data['2ndFlrSF']\n",
        "\n",
        "# Contoh Imputasi (PENTING: Harus dijalankan di df_data)\n",
        "cols_none_cat = ['Alley', 'BsmtQual', 'BsmtCond', 'BsmtExposure', 'BsmtFinType1',\n",
        "                 'BsmtFinType2', 'FireplaceQu', 'GarageType', 'GarageFinish',\n",
        "                 'GarageQual', 'GarageCond', 'PoolQC', 'Fence', 'MiscFeature', 'MasVnrType']\n",
        "for col in cols_none_cat:\n",
        "    df_data[col] = df_data[col].fillna('None')"
      ],
      "metadata": {
        "id": "mMNx1Q8eX45w"
      },
      "execution_count": 28,
      "outputs": []
    },
    {
      "cell_type": "markdown",
      "source": [
        "## **2.3) Penanganan Missing Values dan Encoding Menggunakan Pipeline**"
      ],
      "metadata": {
        "id": "rs5zuO70TrZc"
      }
    },
    {
      "cell_type": "code",
      "source": [
        "# 1. Preprocessor for Numerical data: Impute with Median, then Standardize\n",
        "numerical_transformer = Pipeline(steps=[\n",
        "    ('imputer', SimpleImputer(strategy='median')),\n",
        "    ('scaler', StandardScaler())\n",
        "])\n",
        "\n",
        "# 2. Preprocessor for Categorical data: Impute with Mode, then One-Hot Encode\n",
        "categorical_transformer = Pipeline(steps=[\n",
        "    ('imputer', SimpleImputer(strategy='most_frequent')),\n",
        "    ('onehot', OneHotEncoder(handle_unknown='ignore'))\n",
        "])\n",
        "\n",
        "# Gabungkan preprocessor\n",
        "preprocessor = ColumnTransformer(\n",
        "    transformers=[\n",
        "        ('num', numerical_transformer, numerical_cols_final),\n",
        "        ('cat', categorical_transformer, categorical_cols_final)\n",
        "    ])\n",
        "\n",
        "# Terapkan Preprocessor pada data GABUNGAN (df_data)\n",
        "# Pastikan df_data sudah memiliki fitur TotalSF dan imputasi None\n",
        "X_final = preprocessor.fit_transform(df_data[features_for_clustering_final])\n",
        "\n",
        "\n",
        "# Dapatkan nama fitur baru setelah One-Hot Encoding\n",
        "feature_names = (numerical_cols_final +\n",
        "                 list(preprocessor.named_transformers_['cat']['onehot'].get_feature_names_out(categorical_cols_final)))\n",
        "\n",
        "# Koreksi Error: HAPUS .toarray()\n",
        "X_df_processed = pd.DataFrame(X_final, columns=feature_names)\n",
        "\n",
        "print(\"\\n--- Data Setelah Imputasi, Encoding, dan Feature Engineering (X_df_processed.head()) ---\")\n",
        "print(X_df_processed.head())\n",
        "print(f\"Shape Data Setelah Preprocessing: {X_df_processed.shape}\")"
      ],
      "metadata": {
        "colab": {
          "base_uri": "https://localhost:8080/"
        },
        "id": "G4bpDHk1Tzfp",
        "outputId": "ef88241a-4870-4507-dda9-04ec92d93ca5"
      },
      "execution_count": 29,
      "outputs": [
        {
          "output_type": "stream",
          "name": "stdout",
          "text": [
            "\n",
            "--- Data Setelah Imputasi, Encoding, dan Feature Engineering (X_df_processed.head()) ---\n",
            "   GrLivArea  TotalBsmtSF  OverallQual  YearBuilt  1stFlrSF  2ndFlrSF  \\\n",
            "0   0.413547    -0.444278     0.646183   1.046258 -0.773861  1.207379   \n",
            "1  -0.471891     0.477158    -0.063185   0.154764  0.261075 -0.785025   \n",
            "2   0.563755    -0.299027     0.646183   0.980221 -0.610718  1.235375   \n",
            "3   0.427382    -0.671232     0.646183  -1.859351 -0.506205  0.978742   \n",
            "4   1.378042     0.211621     1.355551   0.947203 -0.037170  1.671651   \n",
            "\n",
            "   GarageCars  GarageArea  BsmtFullBath  FullBath  ...  Neighborhood_SawyerW  \\\n",
            "0    0.306418    0.348888      1.087334  0.781366  ...                   0.0   \n",
            "1    0.306418   -0.059804     -0.818929  0.781366  ...                   0.0   \n",
            "2    0.306418    0.627542      1.087334  0.781366  ...                   0.0   \n",
            "3    1.619830    0.785446      1.087334 -1.027363  ...                   0.0   \n",
            "4    1.619830    1.686426      1.087334  0.781366  ...                   0.0   \n",
            "\n",
            "   Neighborhood_Somerst  Neighborhood_StoneBr  Neighborhood_Timber  \\\n",
            "0                   0.0                   0.0                  0.0   \n",
            "1                   0.0                   0.0                  0.0   \n",
            "2                   0.0                   0.0                  0.0   \n",
            "3                   0.0                   0.0                  0.0   \n",
            "4                   0.0                   0.0                  0.0   \n",
            "\n",
            "   Neighborhood_Veenker  MSZoning_C (all)  MSZoning_FV  MSZoning_RH  \\\n",
            "0                   0.0               0.0          0.0          0.0   \n",
            "1                   1.0               0.0          0.0          0.0   \n",
            "2                   0.0               0.0          0.0          0.0   \n",
            "3                   0.0               0.0          0.0          0.0   \n",
            "4                   0.0               0.0          0.0          0.0   \n",
            "\n",
            "   MSZoning_RL  MSZoning_RM  \n",
            "0          1.0          0.0  \n",
            "1          1.0          0.0  \n",
            "2          1.0          0.0  \n",
            "3          1.0          0.0  \n",
            "4          1.0          0.0  \n",
            "\n",
            "[5 rows x 45 columns]\n",
            "Shape Data Setelah Preprocessing: (2919, 45)\n"
          ]
        }
      ]
    },
    {
      "cell_type": "markdown",
      "source": [
        "# **3) Clustering K-Means**"
      ],
      "metadata": {
        "id": "er8xoVA6Tyuw"
      }
    },
    {
      "cell_type": "markdown",
      "source": [
        "## **3.1) Menentukan Jumlah Cluster ($K$) Optimal**"
      ],
      "metadata": {
        "id": "Xk-YrWjCUByF"
      }
    },
    {
      "cell_type": "code",
      "source": [
        "# Tentukan rentang K yang akan diuji\n",
        "k_range = range(2, 11)\n",
        "inertia = []\n",
        "silhouette_scores = {}\n",
        "davies_bouldin_scores = {}\n",
        "\n",
        "print(\"\\n--- Menghitung Metrik Kualitas Cluster untuk K=2 hingga K=10 ---\")\n",
        "\n",
        "for k in k_range:\n",
        "    kmeans = KMeans(n_clusters=k, random_state=42, n_init=10)\n",
        "    kmeans.fit(X_final)\n",
        "    inertia.append(kmeans.inertia_)\n",
        "\n",
        "    if k >= 2:\n",
        "        # Menghitung skor untuk perbandingan\n",
        "        silhouette_scores[k] = silhouette_score(X_final, kmeans.labels_)\n",
        "        davies_bouldin_scores[k] = davies_bouldin_score(X_final, kmeans.labels_)\n",
        "        print(f\"K={k}: Silhouette={silhouette_scores[k]:.4f}, DBI={davies_bouldin_scores[k]:.4f}\")\n",
        "\n",
        "# Analisis visual untuk memilih K optimal\n",
        "plt.figure(figsize=(12, 4))\n",
        "\n",
        "plt.subplot(1, 2, 1)\n",
        "plt.plot(k_range, inertia, marker='o', color='blue')\n",
        "plt.title('1. Elbow Method (Inertia)')\n",
        "plt.xlabel('Jumlah Cluster (K)')\n",
        "plt.ylabel('Inertia (SSE)')\n",
        "plt.grid(True)\n",
        "\n",
        "plt.subplot(1, 2, 2)\n",
        "# Konversi dictionary skor ke list untuk plotting\n",
        "silhouette_list = [silhouette_scores[k] for k in k_range]\n",
        "dbi_list = [davies_bouldin_scores[k] for k in k_range]\n",
        "plt.plot(k_range, silhouette_list, marker='o', color='green', label='Silhouette Score')\n",
        "plt.plot(k_range, dbi_list, marker='x', color='red', label='Davies-Bouldin Index')\n",
        "plt.title('2. Metrik Kualitas Cluster')\n",
        "plt.xlabel('Jumlah Cluster (K)')\n",
        "plt.ylabel('Score')\n",
        "plt.legend()\n",
        "plt.grid(True)\n",
        "\n",
        "plt.tight_layout()\n",
        "plt.show()\n",
        "#\n",
        "\n",
        "# Setelah melihat grafik (misalnya, kita memilih K=5 karena memberikan keseimbangan skor)\n",
        "K_optimal = 5"
      ],
      "metadata": {
        "colab": {
          "base_uri": "https://localhost:8080/",
          "height": 598
        },
        "id": "OzLdSHWVT_WL",
        "outputId": "06692538-5949-447f-a368-850e44e4716b"
      },
      "execution_count": 30,
      "outputs": [
        {
          "output_type": "stream",
          "name": "stdout",
          "text": [
            "\n",
            "--- Menghitung Metrik Kualitas Cluster untuk K=2 hingga K=10 ---\n",
            "K=2: Silhouette=0.2249, DBI=1.6430\n",
            "K=3: Silhouette=0.1701, DBI=1.8976\n",
            "K=4: Silhouette=0.1734, DBI=1.8481\n",
            "K=5: Silhouette=0.1419, DBI=2.0010\n",
            "K=6: Silhouette=0.1440, DBI=1.8388\n",
            "K=7: Silhouette=0.1462, DBI=1.7039\n",
            "K=8: Silhouette=0.1447, DBI=1.7104\n",
            "K=9: Silhouette=0.1460, DBI=1.8318\n",
            "K=10: Silhouette=0.1366, DBI=1.8022\n"
          ]
        },
        {
          "output_type": "display_data",
          "data": {
            "text/plain": [
              "<Figure size 1200x400 with 2 Axes>"
            ],
            "image/png": "[encoded data removed]"
          },
          "metadata": {}
        }
      ]
    },
    {
      "cell_type": "markdown",
      "source": [
        "## **3.2) Menerapkan K-Means Akhir dan Evaluasi**"
      ],
      "metadata": {
        "id": "Zp42T7NfULHw"
      }
    },
    {
      "cell_type": "code",
      "source": [
        "print(f\"\\n--- Menerapkan K-Means dengan K Optimal = {K_optimal} ---\")\n",
        "\n",
        "kmeans_final = KMeans(n_clusters=K_optimal, random_state=42, n_init=10)\n",
        "cluster_labels = kmeans_final.fit_predict(X_final)\n",
        "\n",
        "# Tambahkan label cluster ke DataFrame asli (df_train) untuk interpretasi\n",
        "df_train['Cluster'] = cluster_labels\n",
        "\n",
        "# Tampilkan metrik akhir\n",
        "final_silhouette = silhouette_score(X_final, cluster_labels)\n",
        "final_davies_bouldin = davies_bouldin_score(X_final, cluster_labels)\n",
        "\n",
        "print(f\"\\nSilhouette Score Akhir: {final_silhouette:.4f}\")\n",
        "print(f\"Davies-Bouldin Index Akhir: {final_davies_bouldin:.4f}\")"
      ],
      "metadata": {
        "colab": {
          "base_uri": "https://localhost:8080/",
          "height": 391
        },
        "id": "iiDWLY9XUUmc",
        "outputId": "a9c6a64d-eb74-470c-9c41-f95b2b5d6fd0"
      },
      "execution_count": 31,
      "outputs": [
        {
          "output_type": "stream",
          "name": "stdout",
          "text": [
            "\n",
            "--- Menerapkan K-Means dengan K Optimal = 5 ---\n"
          ]
        },
        {
          "output_type": "error",
          "ename": "ValueError",
          "evalue": "Length of values (2919) does not match length of index (1460)",
          "traceback": [
            "\u001b[0;31m---------------------------------------------------------------------------\u001b[0m",
            "\u001b[0;31mValueError\u001b[0m                                Traceback (most recent call last)",
            "\u001b[0;32m/tmp/ipython-input-2337514172.py\u001b[0m in \u001b[0;36m<cell line: 0>\u001b[0;34m()\u001b[0m\n\u001b[1;32m      5\u001b[0m \u001b[0;34m\u001b[0m\u001b[0m\n\u001b[1;32m      6\u001b[0m \u001b[0;31m# Tambahkan label cluster ke DataFrame asli (df_train) untuk interpretasi\u001b[0m\u001b[0;34m\u001b[0m\u001b[0;34m\u001b[0m\u001b[0m\n\u001b[0;32m----> 7\u001b[0;31m \u001b[0mdf_train\u001b[0m\u001b[0;34m[\u001b[0m\u001b[0;34m'Cluster'\u001b[0m\u001b[0;34m]\u001b[0m \u001b[0;34m=\u001b[0m \u001b[0mcluster_labels\u001b[0m\u001b[0;34m\u001b[0m\u001b[0;34m\u001b[0m\u001b[0m\n\u001b[0m\u001b[1;32m      8\u001b[0m \u001b[0;34m\u001b[0m\u001b[0m\n\u001b[1;32m      9\u001b[0m \u001b[0;31m# Tampilkan metrik akhir\u001b[0m\u001b[0;34m\u001b[0m\u001b[0;34m\u001b[0m\u001b[0m\n",
            "\u001b[0;32m/usr/local/lib/python3.12/dist-packages/pandas/core/frame.py\u001b[0m in \u001b[0;36m__setitem__\u001b[0;34m(self, key, value)\u001b[0m\n\u001b[1;32m   4309\u001b[0m         \u001b[0;32melse\u001b[0m\u001b[0;34m:\u001b[0m\u001b[0;34m\u001b[0m\u001b[0;34m\u001b[0m\u001b[0m\n\u001b[1;32m   4310\u001b[0m             \u001b[0;31m# set column\u001b[0m\u001b[0;34m\u001b[0m\u001b[0;34m\u001b[0m\u001b[0m\n\u001b[0;32m-> 4311\u001b[0;31m             \u001b[0mself\u001b[0m\u001b[0;34m.\u001b[0m\u001b[0m_set_item\u001b[0m\u001b[0;34m(\u001b[0m\u001b[0mkey\u001b[0m\u001b[0;34m,\u001b[0m \u001b[0mvalue\u001b[0m\u001b[0;34m)\u001b[0m\u001b[0;34m\u001b[0m\u001b[0;34m\u001b[0m\u001b[0m\n\u001b[0m\u001b[1;32m   4312\u001b[0m \u001b[0;34m\u001b[0m\u001b[0m\n\u001b[1;32m   4313\u001b[0m     \u001b[0;32mdef\u001b[0m \u001b[0m_setitem_slice\u001b[0m\u001b[0;34m(\u001b[0m\u001b[0mself\u001b[0m\u001b[0;34m,\u001b[0m \u001b[0mkey\u001b[0m\u001b[0;34m:\u001b[0m \u001b[0mslice\u001b[0m\u001b[0;34m,\u001b[0m \u001b[0mvalue\u001b[0m\u001b[0;34m)\u001b[0m \u001b[0;34m->\u001b[0m \u001b[0;32mNone\u001b[0m\u001b[0;34m:\u001b[0m\u001b[0;34m\u001b[0m\u001b[0;34m\u001b[0m\u001b[0m\n",
            "\u001b[0;32m/usr/local/lib/python3.12/dist-packages/pandas/core/frame.py\u001b[0m in \u001b[0;36m_set_item\u001b[0;34m(self, key, value)\u001b[0m\n\u001b[1;32m   4522\u001b[0m         \u001b[0mensure\u001b[0m \u001b[0mhomogeneity\u001b[0m\u001b[0;34m.\u001b[0m\u001b[0;34m\u001b[0m\u001b[0;34m\u001b[0m\u001b[0m\n\u001b[1;32m   4523\u001b[0m         \"\"\"\n\u001b[0;32m-> 4524\u001b[0;31m         \u001b[0mvalue\u001b[0m\u001b[0;34m,\u001b[0m \u001b[0mrefs\u001b[0m \u001b[0;34m=\u001b[0m \u001b[0mself\u001b[0m\u001b[0;34m.\u001b[0m\u001b[0m_sanitize_column\u001b[0m\u001b[0;34m(\u001b[0m\u001b[0mvalue\u001b[0m\u001b[0;34m)\u001b[0m\u001b[0;34m\u001b[0m\u001b[0;34m\u001b[0m\u001b[0m\n\u001b[0m\u001b[1;32m   4525\u001b[0m \u001b[0;34m\u001b[0m\u001b[0m\n\u001b[1;32m   4526\u001b[0m         if (\n",
            "\u001b[0;32m/usr/local/lib/python3.12/dist-packages/pandas/core/frame.py\u001b[0m in \u001b[0;36m_sanitize_column\u001b[0;34m(self, value)\u001b[0m\n\u001b[1;32m   5264\u001b[0m \u001b[0;34m\u001b[0m\u001b[0m\n\u001b[1;32m   5265\u001b[0m         \u001b[0;32mif\u001b[0m \u001b[0mis_list_like\u001b[0m\u001b[0;34m(\u001b[0m\u001b[0mvalue\u001b[0m\u001b[0;34m)\u001b[0m\u001b[0;34m:\u001b[0m\u001b[0;34m\u001b[0m\u001b[0;34m\u001b[0m\u001b[0m\n\u001b[0;32m-> 5266\u001b[0;31m             \u001b[0mcom\u001b[0m\u001b[0;34m.\u001b[0m\u001b[0mrequire_length_match\u001b[0m\u001b[0;34m(\u001b[0m\u001b[0mvalue\u001b[0m\u001b[0;34m,\u001b[0m \u001b[0mself\u001b[0m\u001b[0;34m.\u001b[0m\u001b[0mindex\u001b[0m\u001b[0;34m)\u001b[0m\u001b[0;34m\u001b[0m\u001b[0;34m\u001b[0m\u001b[0m\n\u001b[0m\u001b[1;32m   5267\u001b[0m         \u001b[0marr\u001b[0m \u001b[0;34m=\u001b[0m \u001b[0msanitize_array\u001b[0m\u001b[0;34m(\u001b[0m\u001b[0mvalue\u001b[0m\u001b[0;34m,\u001b[0m \u001b[0mself\u001b[0m\u001b[0;34m.\u001b[0m\u001b[0mindex\u001b[0m\u001b[0;34m,\u001b[0m \u001b[0mcopy\u001b[0m\u001b[0;34m=\u001b[0m\u001b[0;32mTrue\u001b[0m\u001b[0;34m,\u001b[0m \u001b[0mallow_2d\u001b[0m\u001b[0;34m=\u001b[0m\u001b[0;32mTrue\u001b[0m\u001b[0;34m)\u001b[0m\u001b[0;34m\u001b[0m\u001b[0;34m\u001b[0m\u001b[0m\n\u001b[1;32m   5268\u001b[0m         if (\n",
            "\u001b[0;32m/usr/local/lib/python3.12/dist-packages/pandas/core/common.py\u001b[0m in \u001b[0;36mrequire_length_match\u001b[0;34m(data, index)\u001b[0m\n\u001b[1;32m    571\u001b[0m     \"\"\"\n\u001b[1;32m    572\u001b[0m     \u001b[0;32mif\u001b[0m \u001b[0mlen\u001b[0m\u001b[0;34m(\u001b[0m\u001b[0mdata\u001b[0m\u001b[0;34m)\u001b[0m \u001b[0;34m!=\u001b[0m \u001b[0mlen\u001b[0m\u001b[0;34m(\u001b[0m\u001b[0mindex\u001b[0m\u001b[0;34m)\u001b[0m\u001b[0;34m:\u001b[0m\u001b[0;34m\u001b[0m\u001b[0;34m\u001b[0m\u001b[0m\n\u001b[0;32m--> 573\u001b[0;31m         raise ValueError(\n\u001b[0m\u001b[1;32m    574\u001b[0m             \u001b[0;34m\"Length of values \"\u001b[0m\u001b[0;34m\u001b[0m\u001b[0;34m\u001b[0m\u001b[0m\n\u001b[1;32m    575\u001b[0m             \u001b[0;34mf\"({len(data)}) \"\u001b[0m\u001b[0;34m\u001b[0m\u001b[0;34m\u001b[0m\u001b[0m\n",
            "\u001b[0;31mValueError\u001b[0m: Length of values (2919) does not match length of index (1460)"
          ]
        }
      ]
    },
    {
      "cell_type": "markdown",
      "source": [
        "## **3.3) Interpretasi (Analisis Profil Cluster)**"
      ],
      "metadata": {
        "id": "UrXFAVTFUYEn"
      }
    },
    {
      "cell_type": "code",
      "source": [
        "df_train = pd.read_csv('/content/drive/MyDrive/Colab Notebooks/Machine Learning/UTS/train.csv')\n",
        "df_test = pd.read_csv('/content/drive/MyDrive/Colab Notebooks/Machine Learning/UTS/test.csv')\n",
        "\n",
        "train_len = len(df_train)\n",
        "test_ids = df_test['Id']\n",
        "\n",
        "# Combine train and test for consistent preprocessing\n",
        "df_data = pd.concat([df_train.drop('SalePrice', axis=1), df_test.drop('Id', axis=1)], ignore_index=True)\n",
        "\n",
        "# 1. Feature Engineering: TotalSF (PENTING: Dibuat di df_data)\n",
        "df_data['TotalSF'] = df_data['TotalBsmtSF'] + df_data['1stFlrSF'] + df_data['2ndFlrSF']\n",
        "\n",
        "# 2. Custom Imputation (berdasarkan data_description.txt)\n",
        "# Kolom Categorical di mana NA berarti 'None'\n",
        "cols_none_cat = ['Alley', 'BsmtQual', 'BsmtCond', 'BsmtExposure', 'BsmtFinType1',\n",
        "                 'BsmtFinType2', 'FireplaceQu', 'GarageType', 'GarageFinish',\n",
        "                 'GarageQual', 'GarageCond', 'PoolQC', 'Fence', 'MiscFeature', 'MasVnrType']\n",
        "for col in cols_none_cat:\n",
        "    df_data[col] = df_data[col].fillna('None')\n",
        "\n",
        "# Kolom Numerical di mana NA berarti 0\n",
        "cols_zero_num = ['MasVnrArea', 'TotalBsmtSF', 'BsmtFinSF1', 'BsmtFinSF2', 'BsmtUnfSF',\n",
        "                 'GarageYrBlt', 'GarageCars', 'GarageArea']\n",
        "for col in cols_zero_num:\n",
        "    df_data[col] = df_data[col].fillna(0)\n",
        "\n",
        "# Imputasi Sisanya (Median/Modus)\n",
        "df_data['LotFrontage'] = df_data['LotFrontage'].fillna(df_data['LotFrontage'].median())\n",
        "# Sisa kategorikal dengan modus (misal: Electrical, MSZoning, KitchenQual, SaleType, Exterior1st, Exterior2nd, Functional, Utilities, KitchenQual)\n",
        "for col in ['Electrical', 'MSZoning', 'KitchenQual', 'SaleType', 'Exterior1st', 'Exterior2nd', 'Functional', 'Utilities', 'KitchenQual']:\n",
        "     if col in df_data.columns: # Check if the column exists in df_data\n",
        "        df_data[col] = df_data[col].fillna(df_data[col].mode()[0])\n",
        "\n",
        "# --- 2. Finalisasi Subset dan Transformation ---\n",
        "# Daftar fitur akhir untuk clustering (termasuk TotalSF yang baru dibuat)\n",
        "features_for_clustering_final = [\n",
        "    'GrLivArea', 'OverallQual', 'YearBuilt', 'GarageCars', 'LotArea', 'LotFrontage',\n",
        "    'Neighborhood', 'MSZoning', 'TotalSF', 'BsmtQual', 'ExterQual' # Subset sederhana\n",
        "]\n",
        "\n",
        "df_subset_final = df_data[features_for_clustering_final]\n",
        "numerical_cols_final = df_subset_final.select_dtypes(include=np.number).columns.tolist()\n",
        "categorical_cols_final = df_subset_final.select_dtypes(include='object').columns.tolist()\n",
        "\n",
        "# Pipeline (Hanya Scaling dan Encoding) - Fit this on the combined data (df_data)\n",
        "numerical_transformer = Pipeline(steps=[('scaler', StandardScaler())])\n",
        "categorical_transformer = Pipeline(steps=[('onehot', OneHotEncoder(handle_unknown='ignore'))])\n",
        "\n",
        "preprocessor = ColumnTransformer(\n",
        "    transformers=[\n",
        "        ('num', numerical_transformer, numerical_cols_final),\n",
        "        ('cat', categorical_transformer, categorical_cols_final)\n",
        "    ])\n",
        "\n",
        "# Terapkan Preprocessor pada data GABUNGAN (df_data)\n",
        "X_final = preprocessor.fit_transform(df_data[features_for_clustering_final])\n",
        "\n",
        "# --- 3. Clustering K-Means ---\n",
        "K_optimal = 5 # Menggunakan K=5\n",
        "\n",
        "# --- 4. Interpretasi Cluster (Memperbaiki KeyError) ---\n",
        "# TotalSF now exists in df_train, so KeyError is resolved!\n",
        "# We will perform clustering and interpretation in the next cell."
      ],
      "metadata": {
        "id": "Tv970cm3UbIQ"
      },
      "execution_count": null,
      "outputs": []
    }
  ]
}